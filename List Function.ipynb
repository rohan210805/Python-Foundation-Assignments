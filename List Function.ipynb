{
 "cells": [
  {
   "cell_type": "markdown",
   "id": "651e4d70",
   "metadata": {},
   "source": [
    "### Q1. What is the syntax for adding an element to a list in Python? "
   ]
  },
  {
   "cell_type": "code",
   "execution_count": 2,
   "id": "79eb10a4",
   "metadata": {},
   "outputs": [
    {
     "name": "stdout",
     "output_type": "stream",
     "text": [
      "[1, 2, 3, 4]\n"
     ]
    }
   ],
   "source": [
    "my_list = [1, 2, 3]\n",
    "my_list.append(4)\n",
    "print(my_list)  "
   ]
  },
  {
   "cell_type": "markdown",
   "id": "54e4a1da",
   "metadata": {},
   "source": [
    "### Q2. What is the difference between remove() and pop() functions in Python? "
   ]
  },
  {
   "cell_type": "code",
   "execution_count": 3,
   "id": "1a49f3bf",
   "metadata": {},
   "outputs": [
    {
     "name": "stdout",
     "output_type": "stream",
     "text": [
      "[1, 3, 2, 4]\n"
     ]
    }
   ],
   "source": [
    "# 1. remove():\n",
    "\n",
    "# It Removes the first occurrence of a specified value from the list.\n",
    "# Syntax: list.remove(value)\n",
    "\n",
    "# e.g\n",
    "my_list = [1, 2, 3, 2, 4]\n",
    "my_list.remove(2)\n",
    "print(my_list) "
   ]
  },
  {
   "cell_type": "code",
   "execution_count": 4,
   "id": "1ede3e43",
   "metadata": {},
   "outputs": [
    {
     "name": "stdout",
     "output_type": "stream",
     "text": [
      "3\n"
     ]
    }
   ],
   "source": [
    "# 2. pop():\n",
    "\n",
    "# It Removes and returns the element at a specified index. If no index is specified, it removes and returns the last element.\n",
    "# Syntax: list.pop(index)\n",
    "\n",
    "# e.g\n",
    "my_list = [1, 2, 3, 4]\n",
    "popped_element = my_list.pop(2)\n",
    "print(popped_element)  "
   ]
  },
  {
   "cell_type": "markdown",
   "id": "96be6efd",
   "metadata": {},
   "source": [
    "### Q3. Write a Python code to sort a list in descending order. "
   ]
  },
  {
   "cell_type": "code",
   "execution_count": 5,
   "id": "e9533a6c",
   "metadata": {},
   "outputs": [
    {
     "name": "stdout",
     "output_type": "stream",
     "text": [
      "[9, 6, 5, 5, 4, 3, 2, 1, 1]\n"
     ]
    }
   ],
   "source": [
    "my_list = [3, 1, 4, 1, 5, 9, 2, 6, 5]\n",
    "my_list.sort(reverse=True)\n",
    "print(my_list)  "
   ]
  },
  {
   "cell_type": "markdown",
   "id": "c111ce3c",
   "metadata": {},
   "source": [
    "### Q4. Write a Python code to count the number of occurrences of an element in a list. "
   ]
  },
  {
   "cell_type": "code",
   "execution_count": 6,
   "id": "e39d0755",
   "metadata": {},
   "outputs": [
    {
     "name": "stdout",
     "output_type": "stream",
     "text": [
      "4\n"
     ]
    }
   ],
   "source": [
    "my_list = [1, 2, 3, 2, 4, 2, 5, 2]\n",
    "element_to_count = 2\n",
    "count = my_list.count(element_to_count)\n",
    "print(count)  "
   ]
  },
  {
   "cell_type": "markdown",
   "id": "251d21f9",
   "metadata": {},
   "source": [
    "### Q5. Write a Python code to reverse a list. "
   ]
  },
  {
   "cell_type": "code",
   "execution_count": 7,
   "id": "2789dd7c",
   "metadata": {},
   "outputs": [
    {
     "name": "stdout",
     "output_type": "stream",
     "text": [
      "[5, 4, 3, 2, 1]\n"
     ]
    }
   ],
   "source": [
    "my_list = [1, 2, 3, 4, 5]\n",
    "my_list.reverse()\n",
    "print(my_list) "
   ]
  }
 ],
 "metadata": {
  "kernelspec": {
   "display_name": "Python 3 (ipykernel)",
   "language": "python",
   "name": "python3"
  },
  "language_info": {
   "codemirror_mode": {
    "name": "ipython",
    "version": 3
   },
   "file_extension": ".py",
   "mimetype": "text/x-python",
   "name": "python",
   "nbconvert_exporter": "python",
   "pygments_lexer": "ipython3",
   "version": "3.11.4"
  }
 },
 "nbformat": 4,
 "nbformat_minor": 5
}
