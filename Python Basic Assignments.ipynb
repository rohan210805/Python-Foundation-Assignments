{
 "cells": [
  {
   "cell_type": "markdown",
   "id": "0332cd92",
   "metadata": {},
   "source": [
    "### Q1. Write all the conventions being followed while declaring a variable?"
   ]
  },
  {
   "cell_type": "markdown",
   "id": "ad1c3bcb",
   "metadata": {},
   "source": [
    "The conventions for declaring variables in programming are \n",
    "\n",
    "1. Use meaningful names.\n",
    "2. Use CamelCase or snake_case for naming.\n",
    "3. Avoid reserved words.\n",
    "4. Maintain consistent naming style.\n",
    "5. Use descriptive names.\n",
    "6. Avoid unnecessary abbreviations.\n",
    "7. Use nouns for variable names.\n",
    "8. Consider variable scope in naming.\n",
    "9. Follow language-specific conventions.\n",
    "10. Avoid starting variable names with numbers."
   ]
  },
  {
   "cell_type": "markdown",
   "id": "02f96a03",
   "metadata": {},
   "source": [
    "### Q2. What will happen if we declare a restricted keyword as a variable?"
   ]
  },
  {
   "cell_type": "markdown",
   "id": "1d070515",
   "metadata": {},
   "source": [
    "If we declare a restricted keyword as a variable in most programming languages, it will typically result in a syntax error or a compilation error. Restricted keywords are reserved by the language for specific purposes such as defining syntax, operations, or control flow. Attempting to use them as variable names violates the language rules and prevents proper interpretation of our code by the compiler or interpreter. Therefore, it's essential to avoid using restricted keywords as variable names to ensure our code runs correctly and adheres to language syntax rules."
   ]
  },
  {
   "cell_type": "markdown",
   "id": "243b9adf",
   "metadata": {},
   "source": [
    "### Q3. Can we actually declare a string as a variable name?"
   ]
  },
  {
   "cell_type": "markdown",
   "id": "d78ee95d",
   "metadata": {},
   "source": [
    "No, in most programming languages, we cannot directly declare a string as a variable name. Variable names must follow specific rules and typically cannot be represented by string literals."
   ]
  },
  {
   "cell_type": "markdown",
   "id": "c0a2bdb2",
   "metadata": {},
   "source": [
    "### Q4. Is it possible for us to declare “_” as a variable? If so, then write an example of it."
   ]
  },
  {
   "cell_type": "markdown",
   "id": "bfac3f4a",
   "metadata": {},
   "source": [
    "Yes, it is possible to declare _ as a variable in many programming languages. \n",
    "\n",
    "e.g\n",
    "\n",
    "_ = 10\n",
    "print(_)  \n",
    "\n",
    "In this example, _ is used as a variable name, holding the value 10."
   ]
  },
  {
   "cell_type": "markdown",
   "id": "db316eae",
   "metadata": {},
   "source": [
    "### Q5. Using an example, explain how the variables in python are dynamic in nature? "
   ]
  },
  {
   "cell_type": "markdown",
   "id": "adbb3c7f",
   "metadata": {},
   "source": [
    "In Python, variables are dynamic in nature, which means they can change their type and value during the execution of a program. \n",
    "\n",
    "e.g\n",
    "x = 5  \n",
    "print(x)  \n",
    "x = \"Hello, world!\"  \n",
    "print(x)  \n",
    "x = [1, 2, 3]  \n",
    "print(x)   \n",
    "\n",
    "In this example,\n",
    "1. Initially, x is assigned an integer value 5.\n",
    "2. Later, x is reassigned to a string \"Hello, world!\".\n",
    "3. Finally, x is reassigned again, this time to a list [1, 2, 3].\n",
    "\n",
    "Python allows variables to be dynamically reassigned to values of different types without explicitly declaring the type beforehand. This dynamic typing flexibility is a characteristic feature of Python and facilitates rapid prototyping and code flexibility"
   ]
  }
 ],
 "metadata": {
  "kernelspec": {
   "display_name": "Python 3 (ipykernel)",
   "language": "python",
   "name": "python3"
  },
  "language_info": {
   "codemirror_mode": {
    "name": "ipython",
    "version": 3
   },
   "file_extension": ".py",
   "mimetype": "text/x-python",
   "name": "python",
   "nbconvert_exporter": "python",
   "pygments_lexer": "ipython3",
   "version": "3.11.4"
  }
 },
 "nbformat": 4,
 "nbformat_minor": 5
}
