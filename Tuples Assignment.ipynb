{
 "cells": [
  {
   "cell_type": "markdown",
   "id": "dde344e3",
   "metadata": {},
   "source": [
    "### Q1. What is a tuple in Python? "
   ]
  },
  {
   "cell_type": "raw",
   "id": "67226ce6",
   "metadata": {},
   "source": [
    "\n",
    "In Python, a tuple is an ordered collection of elements that is immutable and allows duplicate elements. Tuples are similar to lists but with the key difference that tuples cannot be changed once created, meaning their elements cannot be modified, added, or removed.\n",
    "\n",
    "Key Characteristics of Tuples:\n",
    "Ordered: Elements in a tuple are ordered and can be accessed by index.\n",
    "Immutable: Once a tuple is created, you cannot change its elements.\n",
    "Allows Duplicates: Tuples can contain duplicate elements."
   ]
  },
  {
   "cell_type": "code",
   "execution_count": 1,
   "id": "62bc826e",
   "metadata": {},
   "outputs": [
    {
     "name": "stdout",
     "output_type": "stream",
     "text": [
      "(1, 2, 3, 4, 5)\n"
     ]
    }
   ],
   "source": [
    "# e.g\n",
    "my_tuple = (1, 2, 3, 4, 5)\n",
    "print(my_tuple)  "
   ]
  },
  {
   "cell_type": "markdown",
   "id": "1c747ec7",
   "metadata": {},
   "source": [
    "### Q2. How do you create a tuple in Python? "
   ]
  },
  {
   "cell_type": "raw",
   "id": "10e8480a",
   "metadata": {},
   "source": [
    "In Python, we can create a tuple by enclosing elements in parentheses () and separating them with commas. "
   ]
  },
  {
   "cell_type": "code",
   "execution_count": 2,
   "id": "29ae0a1c",
   "metadata": {},
   "outputs": [
    {
     "name": "stdout",
     "output_type": "stream",
     "text": [
      "(1, 2, 3, 4, 5)\n"
     ]
    }
   ],
   "source": [
    "# Example 1: Creating a tuple with integers\n",
    "my_tuple = (1, 2, 3, 4, 5)\n",
    "print(my_tuple)  "
   ]
  },
  {
   "cell_type": "code",
   "execution_count": 3,
   "id": "090cc659",
   "metadata": {},
   "outputs": [
    {
     "name": "stdout",
     "output_type": "stream",
     "text": [
      "('apple', 3.14, True)\n"
     ]
    }
   ],
   "source": [
    "# Example 2: Creating a tuple with mixed data types\n",
    "mixed_tuple = ('apple', 3.14, True)\n",
    "print(mixed_tuple)  "
   ]
  },
  {
   "cell_type": "markdown",
   "id": "b73fbc54",
   "metadata": {},
   "source": [
    "### Q3. What is the difference between a tuple and a list in Python? "
   ]
  },
  {
   "cell_type": "raw",
   "id": "e2544252",
   "metadata": {},
   "source": [
    "Comparison:\n",
    "\n",
    "Mutability: Tuples are immutable, while lists are mutable.\n",
    "Syntax: Tuples use parentheses () and lists use square brackets [].\n",
    "Operations: Lists support operations like appending, removing, and inserting elements, which are not possible with tuples.\n",
    "Performance: Due to immutability, tuples can be slightly more memory efficient and faster in operations where immutability is advantageous."
   ]
  },
  {
   "cell_type": "markdown",
   "id": "6d9bb9da",
   "metadata": {},
   "source": [
    "### Q4. Can a tuple be changed in Python?"
   ]
  },
  {
   "cell_type": "raw",
   "id": "b2782ddf",
   "metadata": {},
   "source": [
    "No, a tuple cannot be changed in Python once it is created. Tuples are immutable, meaning their elements cannot be modified, added, or removed after initialization. This immutability distinguishes tuples from lists, which are mutable and allow for dynamic changes."
   ]
  },
  {
   "cell_type": "markdown",
   "id": "87935ca0",
   "metadata": {},
   "source": [
    "### Q5. How do you access elements in a tuple? "
   ]
  },
  {
   "cell_type": "raw",
   "id": "192c2ae6",
   "metadata": {},
   "source": [
    "We can access elements in a tuple in Python using indexing and slicing."
   ]
  },
  {
   "cell_type": "code",
   "execution_count": 5,
   "id": "d34f3a95",
   "metadata": {},
   "outputs": [
    {
     "name": "stdout",
     "output_type": "stream",
     "text": [
      "1\n",
      "(2, 3, 'hello')\n"
     ]
    }
   ],
   "source": [
    "# e.g\n",
    "my_tuple = (1, 2, 3, 'hello', 'world')\n",
    "\n",
    "#index\n",
    "print(my_tuple[0])   \n",
    "Outputs: 1\n",
    "\n",
    "#Slicing\n",
    "print(my_tuple[1:4])  \n",
    "Outputs: (2, 3, 'hello')"
   ]
  },
  {
   "cell_type": "markdown",
   "id": "87d812ef",
   "metadata": {},
   "source": [
    "### Q6. How do you unpack a tuple in Python? "
   ]
  },
  {
   "cell_type": "raw",
   "id": "3bd37c0b",
   "metadata": {},
   "source": [
    "In Python, tuple unpacking allows us to assign individual elements of a tuple to separate variables in a single statement. This is useful when we want to extract and work with each element of a tuple individually."
   ]
  },
  {
   "cell_type": "code",
   "execution_count": 6,
   "id": "ecabd371",
   "metadata": {},
   "outputs": [
    {
     "name": "stdout",
     "output_type": "stream",
     "text": [
      "1\n",
      "2\n",
      "hello\n"
     ]
    }
   ],
   "source": [
    "# e.g\n",
    "my_tuple = (1, 2, 'hello')\n",
    "a, b, c = my_tuple\n",
    "\n",
    "print(a)  \n",
    "print(b)  \n",
    "print(c)  "
   ]
  },
  {
   "cell_type": "code",
   "execution_count": null,
   "id": "3b4fcb68",
   "metadata": {},
   "outputs": [],
   "source": []
  }
 ],
 "metadata": {
  "kernelspec": {
   "display_name": "Python 3 (ipykernel)",
   "language": "python",
   "name": "python3"
  },
  "language_info": {
   "codemirror_mode": {
    "name": "ipython",
    "version": 3
   },
   "file_extension": ".py",
   "mimetype": "text/x-python",
   "name": "python",
   "nbconvert_exporter": "python",
   "pygments_lexer": "ipython3",
   "version": "3.11.4"
  }
 },
 "nbformat": 4,
 "nbformat_minor": 5
}
