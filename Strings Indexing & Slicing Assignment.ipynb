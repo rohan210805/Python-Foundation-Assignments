{
 "cells": [
  {
   "cell_type": "markdown",
   "id": "030c30be",
   "metadata": {},
   "source": [
    "### Q1. How can we store a s1ngle quote (‘) as a str1ng 1n a var1able?"
   ]
  },
  {
   "cell_type": "markdown",
   "id": "65711523",
   "metadata": {},
   "source": [
    "We can store a s1ngle quote (') as a string in a variable by using double quotes (\") to define the string, or by escaping the single quote within single quotes using a backslash (\\).\n",
    "\n",
    "e.g\n",
    "1. Using double quotes\n",
    "\n",
    "single_quote_str = \"'\"\n",
    "\n",
    "print(single_quote_str) "
   ]
  },
  {
   "cell_type": "markdown",
   "id": "ddf5602e",
   "metadata": {},
   "source": [
    " 2. Escaping the single quote\n",
    "\n",
    "single_quote_str = '\\''\n",
    "\n",
    "print(single_quote_str) "
   ]
  },
  {
   "cell_type": "markdown",
   "id": "ee403da5",
   "metadata": {},
   "source": [
    "### Q2. Refer the below variable:"
   ]
  },
  {
   "cell_type": "markdown",
   "id": "ff4a3e91",
   "metadata": {},
   "source": [
    "x = 'a'\n",
    "Here, is x a character type or string type variable? Support your answer with an explanat1on.\n",
    "\n",
    "\n",
    "In Python, the variable x is of string type, even though it contains a single character.\n",
    "\n",
    "explanation:\n",
    "Python does not have a separate character type.\n",
    "Any single character enclosed in quotes (' or \") is treated as a string of length 1."
   ]
  },
  {
   "cell_type": "markdown",
   "id": "3be575ff",
   "metadata": {},
   "source": [
    "### Q3. Apply the following functions on this variable: ‘Welcome to Python foundation course' "
   ]
  },
  {
   "cell_type": "markdown",
   "id": "8a68df0d",
   "metadata": {},
   "source": [
    "1. find ()\n",
    "2. count()\n",
    "3. len()\n",
    "4. Concatenation()\n",
    "Note: You can use your choice of parameters But make sure it is correct.\n",
    "\n",
    "\n",
    "string = 'Welcome to Python foundation course'\n",
    "\n",
    "# find()\n",
    "index = string.find('Python')\n",
    "\n",
    "print(index)  \n",
    "\n",
    "\n",
    "# count()\n",
    "count = string.count('o')\n",
    "\n",
    "print(count)  \n",
    "\n",
    "\n",
    "# len()\n",
    "length = len(string)\n",
    "\n",
    "print(length)  \n",
    "\n",
    "\n",
    "# Concatenation\n",
    "string2 = ' Enjoy your learning!'\n",
    "\n",
    "concatenated_string = string + string2\n",
    "\n",
    "print(concatenated_string) "
   ]
  },
  {
   "cell_type": "markdown",
   "id": "6b877bc1",
   "metadata": {},
   "source": [
    "### Q4. For the var1able: word = ‘PanaJi@12256' "
   ]
  },
  {
   "cell_type": "code",
   "execution_count": 5,
   "id": "8dcd1346",
   "metadata": {},
   "outputs": [
    {
     "name": "stdout",
     "output_type": "stream",
     "text": [
      "Total number of alphabets in lowercase: 4\n",
      "Total number of alphabets in uppercase: 2\n",
      "Total number of numericals in string: 5\n"
     ]
    }
   ],
   "source": [
    "# Calculate the follow1ng:\n",
    "# (a) Total number of alphabets in lowercase\n",
    "# (b) Total number of alphabets in uppercase\n",
    "# (c) Total number of numerical in string\n",
    "\n",
    "\n",
    "\n",
    "word = 'PanaJi@12256'\n",
    "\n",
    "# (a) Total number of alphabets in lowercase\n",
    "lowercase_count = sum(1 for char in word if char.islower())\n",
    "print(\"Total number of alphabets in lowercase:\", lowercase_count)  \n",
    "\n",
    "# (b) Total number of alphabets in uppercase\n",
    "uppercase_count = sum(1 for char in word if char.isupper())\n",
    "print(\"Total number of alphabets in uppercase:\", uppercase_count) \n",
    "\n",
    "# (c) Total number of numericals in string\n",
    "numerical_count = sum(1 for char in word if char.isdigit())\n",
    "print(\"Total number of numericals in string:\", numerical_count) "
   ]
  },
  {
   "cell_type": "markdown",
   "id": "2a6b00a9",
   "metadata": {},
   "source": [
    "### Q5. Write a code to store a numerical value inside a var1able then convert it into string. "
   ]
  },
  {
   "cell_type": "code",
   "execution_count": 6,
   "id": "ef96b8cb",
   "metadata": {},
   "outputs": [
    {
     "name": "stdout",
     "output_type": "stream",
     "text": [
      "12345\n",
      "<class 'str'>\n"
     ]
    }
   ],
   "source": [
    "num = 12345\n",
    "\n",
    "num_str = str(num)\n",
    "\n",
    "print(num_str) \n",
    "print(type(num_str)) "
   ]
  },
  {
   "cell_type": "code",
   "execution_count": null,
   "id": "e311f8e7",
   "metadata": {},
   "outputs": [],
   "source": []
  }
 ],
 "metadata": {
  "kernelspec": {
   "display_name": "Python 3 (ipykernel)",
   "language": "python",
   "name": "python3"
  },
  "language_info": {
   "codemirror_mode": {
    "name": "ipython",
    "version": 3
   },
   "file_extension": ".py",
   "mimetype": "text/x-python",
   "name": "python",
   "nbconvert_exporter": "python",
   "pygments_lexer": "ipython3",
   "version": "3.11.4"
  }
 },
 "nbformat": 4,
 "nbformat_minor": 5
}
