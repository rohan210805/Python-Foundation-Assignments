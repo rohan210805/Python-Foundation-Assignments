{
 "cells": [
  {
   "cell_type": "markdown",
   "id": "1906046d",
   "metadata": {},
   "source": [
    "### Q1. Create an empty list."
   ]
  },
  {
   "cell_type": "code",
   "execution_count": 1,
   "id": "682af7bf",
   "metadata": {},
   "outputs": [
    {
     "name": "stdout",
     "output_type": "stream",
     "text": [
      "[]\n"
     ]
    }
   ],
   "source": [
    "# method 1:\n",
    "empty_list = []\n",
    "\n",
    "# Method 2: \n",
    "empty_list = list()\n",
    "\n",
    "print(empty_list)  "
   ]
  },
  {
   "cell_type": "markdown",
   "id": "6ab74ed8",
   "metadata": {},
   "source": [
    "### Q2. Create a list and add an element to the end of this list."
   ]
  },
  {
   "cell_type": "code",
   "execution_count": 2,
   "id": "8194aecd",
   "metadata": {},
   "outputs": [
    {
     "name": "stdout",
     "output_type": "stream",
     "text": [
      "[1, 2, 3, 4]\n"
     ]
    }
   ],
   "source": [
    "my_list = [1, 2, 3]\n",
    "my_list.append(4)\n",
    "print(my_list)  "
   ]
  },
  {
   "cell_type": "markdown",
   "id": "5275ff22",
   "metadata": {},
   "source": [
    "### Q3. For the above created list print the last element. "
   ]
  },
  {
   "cell_type": "code",
   "execution_count": 3,
   "id": "ff522fc0",
   "metadata": {},
   "outputs": [
    {
     "name": "stdout",
     "output_type": "stream",
     "text": [
      "4\n"
     ]
    }
   ],
   "source": [
    "my_list = [1, 2, 3, 4]\n",
    "print(my_list[-1])  "
   ]
  },
  {
   "cell_type": "markdown",
   "id": "800a9db2",
   "metadata": {},
   "source": [
    "### Q4. Reverse the above created list."
   ]
  },
  {
   "cell_type": "code",
   "execution_count": 4,
   "id": "fa87ee1e",
   "metadata": {},
   "outputs": [
    {
     "name": "stdout",
     "output_type": "stream",
     "text": [
      "[4, 3, 2, 1]\n"
     ]
    }
   ],
   "source": [
    "my_list = [1, 2, 3, 4]\n",
    "reversed_list = my_list[::-1]\n",
    "print(reversed_list)"
   ]
  },
  {
   "cell_type": "markdown",
   "id": "0ac09377",
   "metadata": {},
   "source": [
    "### Q5. Sort the above created list. "
   ]
  },
  {
   "cell_type": "code",
   "execution_count": 5,
   "id": "827472c6",
   "metadata": {},
   "outputs": [
    {
     "name": "stdout",
     "output_type": "stream",
     "text": [
      "[1, 2, 3, 4]\n"
     ]
    }
   ],
   "source": [
    "my_list = [4, 3, 2, 1]\n",
    "sorted_list = sorted(my_list)\n",
    "print(sorted_list) "
   ]
  },
  {
   "cell_type": "markdown",
   "id": "cbf81440",
   "metadata": {},
   "source": [
    "### Q6. Create a list of your top three favorite movies, then print the second movie title. "
   ]
  },
  {
   "cell_type": "code",
   "execution_count": 6,
   "id": "d7d17b9c",
   "metadata": {},
   "outputs": [
    {
     "name": "stdout",
     "output_type": "stream",
     "text": [
      "Bajrangi Bhaijaan\n"
     ]
    }
   ],
   "source": [
    "favorite_movies = ['MS Dhoni', 'Bajrangi Bhaijaan', 'Tare Jamin Par']\n",
    "print(favorite_movies[1]) "
   ]
  },
  {
   "cell_type": "markdown",
   "id": "71fce219",
   "metadata": {},
   "source": [
    "### Q7. Create a list of your favorite animals, then add a new animal to the list and print the updated list. "
   ]
  },
  {
   "cell_type": "code",
   "execution_count": 7,
   "id": "fe500243",
   "metadata": {},
   "outputs": [
    {
     "name": "stdout",
     "output_type": "stream",
     "text": [
      "['Dog', 'Cat', 'Elephant', 'Lion']\n"
     ]
    }
   ],
   "source": [
    "favorite_animals = ['Dog', 'Cat', 'Elephant']\n",
    "favorite_animals.append('Lion')\n",
    "print(favorite_animals)  "
   ]
  },
  {
   "cell_type": "markdown",
   "id": "9571a487",
   "metadata": {},
   "source": [
    "### Q8. Create a list of your favorite cities, then use the index() method to find the position of a specific city on the list and print it. "
   ]
  },
  {
   "cell_type": "code",
   "execution_count": 8,
   "id": "5dba199a",
   "metadata": {},
   "outputs": [
    {
     "name": "stdout",
     "output_type": "stream",
     "text": [
      "1\n"
     ]
    }
   ],
   "source": [
    "favorite_cities = ['Delhi', 'Mumbai', 'Chennai']\n",
    "city_index = favorite_cities.index('Mumbai')\n",
    "print(city_index)"
   ]
  }
 ],
 "metadata": {
  "kernelspec": {
   "display_name": "Python 3 (ipykernel)",
   "language": "python",
   "name": "python3"
  },
  "language_info": {
   "codemirror_mode": {
    "name": "ipython",
    "version": 3
   },
   "file_extension": ".py",
   "mimetype": "text/x-python",
   "name": "python",
   "nbconvert_exporter": "python",
   "pygments_lexer": "ipython3",
   "version": "3.11.4"
  }
 },
 "nbformat": 4,
 "nbformat_minor": 5
}
