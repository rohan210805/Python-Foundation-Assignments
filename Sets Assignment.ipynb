{
 "cells": [
  {
   "cell_type": "markdown",
   "id": "581b633e",
   "metadata": {},
   "source": [
    "### Q1. What is a set in Python? "
   ]
  },
  {
   "cell_type": "markdown",
   "id": "8333c390",
   "metadata": {},
   "source": [
    "A set in Python is a collection data type that is unordered, mutable, and does not allow duplicate elements. Sets are useful for storing unique items and performing mathematical set operations like union, intersection, difference, and symmetric difference.\n",
    "\n",
    "1. The elements in a set do not have a specific order.\n",
    "2. We can add or remove elements from a set after its creation.\n",
    "3. A set automatically removes duplicate elements.\n"
   ]
  },
  {
   "cell_type": "code",
   "execution_count": 2,
   "id": "1e06fbdc",
   "metadata": {},
   "outputs": [
    {
     "name": "stdout",
     "output_type": "stream",
     "text": [
      "{1, 2, 3, 4, 5}\n"
     ]
    }
   ],
   "source": [
    "# e.g\n",
    "my_set = {1, 2, 3, 4, 5}\n",
    "print(my_set)  "
   ]
  },
  {
   "cell_type": "markdown",
   "id": "aca2199f",
   "metadata": {},
   "source": [
    "### Q2.How do you create a set in Python? "
   ]
  },
  {
   "cell_type": "markdown",
   "id": "2c348bbf",
   "metadata": {},
   "source": [
    "In Python, we can create a set in two main ways: using curly braces {} or the set() constructor. \n",
    "1. Using Curly Braces {}"
   ]
  },
  {
   "cell_type": "code",
   "execution_count": 3,
   "id": "6c825159",
   "metadata": {},
   "outputs": [
    {
     "name": "stdout",
     "output_type": "stream",
     "text": [
      "{1, 2, 3, 4, 5}\n"
     ]
    }
   ],
   "source": [
    "my_set = {1, 2, 3, 4, 5}\n",
    "print(my_set)"
   ]
  },
  {
   "cell_type": "code",
   "execution_count": 4,
   "id": "a6bf833a",
   "metadata": {},
   "outputs": [
    {
     "name": "stdout",
     "output_type": "stream",
     "text": [
      "{1, 2, 3, 4, 5}\n"
     ]
    }
   ],
   "source": [
    "# 2. Using the set() Constructor\n",
    "my_set = set([1, 2, 3, 4, 5])\n",
    "print(my_set) "
   ]
  },
  {
   "cell_type": "markdown",
   "id": "03beec66",
   "metadata": {},
   "source": [
    "### Q3. How do you add elements to a set in Python?"
   ]
  },
  {
   "cell_type": "code",
   "execution_count": 6,
   "id": "a9ea5bc1",
   "metadata": {},
   "outputs": [
    {
     "name": "stdout",
     "output_type": "stream",
     "text": [
      "{1, 2, 3, 4}\n",
      "{1, 2, 3, 4, 5}\n"
     ]
    }
   ],
   "source": [
    "# To add elements to a set in Python, we can use the add() method or the update() method.\n",
    "\n",
    "# 1. Using the add() method:\n",
    "# Adds a single element to the set.\n",
    "\n",
    "my_set = {1, 2, 3}\n",
    "my_set.add(4)\n",
    "print(my_set)  \n",
    "\n",
    "\n",
    "# 2. Using the update() method:\n",
    "# Adds multiple elements to the set.\n",
    "\n",
    "my_set = {1, 2, 3}\n",
    "my_set.update([4, 5])\n",
    "print(my_set)  "
   ]
  },
  {
   "cell_type": "markdown",
   "id": "68ab312a",
   "metadata": {},
   "source": [
    "### Q4. How do you remove elements from a set in Python?"
   ]
  },
  {
   "cell_type": "code",
   "execution_count": 7,
   "id": "034fae08",
   "metadata": {},
   "outputs": [
    {
     "name": "stdout",
     "output_type": "stream",
     "text": [
      "{1, 2, 4, 5}\n",
      "{1, 2, 4, 5}\n",
      "1\n",
      "{2, 3, 4, 5}\n"
     ]
    }
   ],
   "source": [
    "# In Python, we can remove elements from a set using several methods, such as remove(), discard(), and pop().\n",
    "# 1. remove() method:\n",
    "# Removes a specified element from the set. Raises a KeyError if the element is not found.\n",
    "\n",
    "my_set = {1, 2, 3, 4, 5}\n",
    "my_set.remove(3)\n",
    "print(my_set)  \n",
    "\n",
    "# 2. discard() method:\n",
    "# Removes a specified element from the set. Does not raise an error if the element is not found.\n",
    "\n",
    "my_set = {1, 2, 3, 4, 5}\n",
    "my_set.discard(3)\n",
    "print(my_set)  \n",
    "\n",
    "# 3. pop() method:\n",
    "# Removes and returns an arbitrary element from the set. Raises a KeyError if the set is empty.\n",
    "\n",
    "my_set = {1, 2, 3, 4, 5}\n",
    "popped_element = my_set.pop()\n",
    "print(popped_element)  \n",
    "print(my_set)  "
   ]
  },
  {
   "cell_type": "markdown",
   "id": "638c44d9",
   "metadata": {},
   "source": [
    "### Q5. How do you get the length of a set in Python? "
   ]
  },
  {
   "cell_type": "code",
   "execution_count": 8,
   "id": "7db71441",
   "metadata": {},
   "outputs": [
    {
     "name": "stdout",
     "output_type": "stream",
     "text": [
      "5\n"
     ]
    }
   ],
   "source": [
    "my_set = {1, 2, 3, 4, 5}\n",
    "length_of_set = len(my_set)\n",
    "print(length_of_set)  "
   ]
  }
 ],
 "metadata": {
  "kernelspec": {
   "display_name": "Python 3 (ipykernel)",
   "language": "python",
   "name": "python3"
  },
  "language_info": {
   "codemirror_mode": {
    "name": "ipython",
    "version": 3
   },
   "file_extension": ".py",
   "mimetype": "text/x-python",
   "name": "python",
   "nbconvert_exporter": "python",
   "pygments_lexer": "ipython3",
   "version": "3.11.4"
  }
 },
 "nbformat": 4,
 "nbformat_minor": 5
}
